{
 "cells": [
  {
   "cell_type": "markdown",
   "id": "25389af3",
   "metadata": {},
   "source": [
    "# Obtención de estadísticas descriptivas\n",
    "\n",
    "#### Sebastián Íñigo López A01661179\n",
    "\n",
    "En esta actividad trabajarás con el conjunto de datos asignado para el reto. Tienes que replicar los pasos vistos durante las horas de clase en un conjunto de datos diferente."
   ]
  },
  {
   "cell_type": "code",
   "execution_count": 1,
   "id": "c2147fc1",
   "metadata": {},
   "outputs": [],
   "source": [
    "import numpy as np\n",
    "import pandas as pd\n",
    "import os"
   ]
  },
  {
   "cell_type": "code",
   "execution_count": 2,
   "id": "fd9fd9c9",
   "metadata": {},
   "outputs": [],
   "source": [
    "os.chdir('C:\\\\Users\\\\oso_p\\\\Documents\\\\Oso_Tec\\\\2do_semestre\\\\semana_tec_2\\\\reto2')"
   ]
  },
  {
   "cell_type": "code",
   "execution_count": 3,
   "id": "116b9904",
   "metadata": {},
   "outputs": [
    {
     "data": {
      "text/plain": [
       "'C:\\\\Users\\\\oso_p\\\\Documents\\\\Oso_Tec\\\\2do_semestre\\\\semana_tec_2\\\\reto2'"
      ]
     },
     "execution_count": 3,
     "metadata": {},
     "output_type": "execute_result"
    }
   ],
   "source": [
    "os.getcwd()\n"
   ]
  },
  {
   "cell_type": "markdown",
   "id": "57b4a291",
   "metadata": {},
   "source": [
    "1. Carga los datos usando tu lector de csv o con pandas. Es recomendable hacerlo con pandas."
   ]
  },
  {
   "cell_type": "code",
   "execution_count": 4,
   "id": "e698abff",
   "metadata": {},
   "outputs": [
    {
     "data": {
      "text/html": [
       "<div>\n",
       "<style scoped>\n",
       "    .dataframe tbody tr th:only-of-type {\n",
       "        vertical-align: middle;\n",
       "    }\n",
       "\n",
       "    .dataframe tbody tr th {\n",
       "        vertical-align: top;\n",
       "    }\n",
       "\n",
       "    .dataframe thead th {\n",
       "        text-align: right;\n",
       "    }\n",
       "</style>\n",
       "<table border=\"1\" class=\"dataframe\">\n",
       "  <thead>\n",
       "    <tr style=\"text-align: right;\">\n",
       "      <th></th>\n",
       "      <th>user_name</th>\n",
       "      <th>user_location</th>\n",
       "      <th>user_description</th>\n",
       "      <th>user_created</th>\n",
       "      <th>user_followers</th>\n",
       "      <th>user_friends</th>\n",
       "      <th>user_favourites</th>\n",
       "      <th>user_verified</th>\n",
       "      <th>date</th>\n",
       "      <th>text</th>\n",
       "      <th>hashtags</th>\n",
       "      <th>source</th>\n",
       "      <th>is_retweet</th>\n",
       "    </tr>\n",
       "  </thead>\n",
       "  <tbody>\n",
       "    <tr>\n",
       "      <th>0</th>\n",
       "      <td>ᏉᎥ☻լꂅϮ</td>\n",
       "      <td>astroworld</td>\n",
       "      <td>wednesday addams as a disney princess keepin i...</td>\n",
       "      <td>2017-05-26 05:46:42</td>\n",
       "      <td>624</td>\n",
       "      <td>950</td>\n",
       "      <td>18775</td>\n",
       "      <td>False</td>\n",
       "      <td>2020-07-25 12:27:21</td>\n",
       "      <td>If I smelled the scent of hand sanitizers toda...</td>\n",
       "      <td>NaN</td>\n",
       "      <td>Twitter for iPhone</td>\n",
       "      <td>False</td>\n",
       "    </tr>\n",
       "    <tr>\n",
       "      <th>1</th>\n",
       "      <td>Tom Basile 🇺🇸</td>\n",
       "      <td>New York, NY</td>\n",
       "      <td>Husband, Father, Columnist &amp; Commentator. Auth...</td>\n",
       "      <td>2009-04-16 20:06:23</td>\n",
       "      <td>2253</td>\n",
       "      <td>1677</td>\n",
       "      <td>24</td>\n",
       "      <td>True</td>\n",
       "      <td>2020-07-25 12:27:17</td>\n",
       "      <td>Hey @Yankees @YankeesPR and @MLB - wouldn't it...</td>\n",
       "      <td>NaN</td>\n",
       "      <td>Twitter for Android</td>\n",
       "      <td>False</td>\n",
       "    </tr>\n",
       "    <tr>\n",
       "      <th>2</th>\n",
       "      <td>Time4fisticuffs</td>\n",
       "      <td>Pewee Valley, KY</td>\n",
       "      <td>#Christian #Catholic #Conservative #Reagan #Re...</td>\n",
       "      <td>2009-02-28 18:57:41</td>\n",
       "      <td>9275</td>\n",
       "      <td>9525</td>\n",
       "      <td>7254</td>\n",
       "      <td>False</td>\n",
       "      <td>2020-07-25 12:27:14</td>\n",
       "      <td>@diane3443 @wdunlap @realDonaldTrump Trump nev...</td>\n",
       "      <td>['COVID19']</td>\n",
       "      <td>Twitter for Android</td>\n",
       "      <td>False</td>\n",
       "    </tr>\n",
       "    <tr>\n",
       "      <th>3</th>\n",
       "      <td>ethel mertz</td>\n",
       "      <td>Stuck in the Middle</td>\n",
       "      <td>#Browns #Indians #ClevelandProud #[]_[] #Cavs ...</td>\n",
       "      <td>2019-03-07 01:45:06</td>\n",
       "      <td>197</td>\n",
       "      <td>987</td>\n",
       "      <td>1488</td>\n",
       "      <td>False</td>\n",
       "      <td>2020-07-25 12:27:10</td>\n",
       "      <td>@brookbanktv The one gift #COVID19 has give me...</td>\n",
       "      <td>['COVID19']</td>\n",
       "      <td>Twitter for iPhone</td>\n",
       "      <td>False</td>\n",
       "    </tr>\n",
       "    <tr>\n",
       "      <th>4</th>\n",
       "      <td>DIPR-J&amp;K</td>\n",
       "      <td>Jammu and Kashmir</td>\n",
       "      <td>🖊️Official Twitter handle of Department of Inf...</td>\n",
       "      <td>2017-02-12 06:45:15</td>\n",
       "      <td>101009</td>\n",
       "      <td>168</td>\n",
       "      <td>101</td>\n",
       "      <td>False</td>\n",
       "      <td>2020-07-25 12:27:08</td>\n",
       "      <td>25 July : Media Bulletin on Novel #CoronaVirus...</td>\n",
       "      <td>['CoronaVirusUpdates', 'COVID19']</td>\n",
       "      <td>Twitter for Android</td>\n",
       "      <td>False</td>\n",
       "    </tr>\n",
       "  </tbody>\n",
       "</table>\n",
       "</div>"
      ],
      "text/plain": [
       "         user_name         user_location  \\\n",
       "0           ᏉᎥ☻լꂅϮ            astroworld   \n",
       "1    Tom Basile 🇺🇸          New York, NY   \n",
       "2  Time4fisticuffs      Pewee Valley, KY   \n",
       "3      ethel mertz  Stuck in the Middle    \n",
       "4         DIPR-J&K     Jammu and Kashmir   \n",
       "\n",
       "                                    user_description         user_created  \\\n",
       "0  wednesday addams as a disney princess keepin i...  2017-05-26 05:46:42   \n",
       "1  Husband, Father, Columnist & Commentator. Auth...  2009-04-16 20:06:23   \n",
       "2  #Christian #Catholic #Conservative #Reagan #Re...  2009-02-28 18:57:41   \n",
       "3  #Browns #Indians #ClevelandProud #[]_[] #Cavs ...  2019-03-07 01:45:06   \n",
       "4  🖊️Official Twitter handle of Department of Inf...  2017-02-12 06:45:15   \n",
       "\n",
       "   user_followers  user_friends  user_favourites  user_verified  \\\n",
       "0             624           950            18775          False   \n",
       "1            2253          1677               24           True   \n",
       "2            9275          9525             7254          False   \n",
       "3             197           987             1488          False   \n",
       "4          101009           168              101          False   \n",
       "\n",
       "                  date                                               text  \\\n",
       "0  2020-07-25 12:27:21  If I smelled the scent of hand sanitizers toda...   \n",
       "1  2020-07-25 12:27:17  Hey @Yankees @YankeesPR and @MLB - wouldn't it...   \n",
       "2  2020-07-25 12:27:14  @diane3443 @wdunlap @realDonaldTrump Trump nev...   \n",
       "3  2020-07-25 12:27:10  @brookbanktv The one gift #COVID19 has give me...   \n",
       "4  2020-07-25 12:27:08  25 July : Media Bulletin on Novel #CoronaVirus...   \n",
       "\n",
       "                            hashtags               source  is_retweet  \n",
       "0                                NaN   Twitter for iPhone       False  \n",
       "1                                NaN  Twitter for Android       False  \n",
       "2                        ['COVID19']  Twitter for Android       False  \n",
       "3                        ['COVID19']   Twitter for iPhone       False  \n",
       "4  ['CoronaVirusUpdates', 'COVID19']  Twitter for Android       False  "
      ]
     },
     "execution_count": 4,
     "metadata": {},
     "output_type": "execute_result"
    }
   ],
   "source": [
    "data = pd.read_csv(\"covid19_tweets.csv\")\n",
    "data.head()"
   ]
  },
  {
   "cell_type": "markdown",
   "id": "6246e475",
   "metadata": {},
   "source": [
    "2. Verifica la cantidad de datos que tienes, las variables que contiene cada vector de datos e identifica el tipo de variables."
   ]
  },
  {
   "cell_type": "code",
   "execution_count": 34,
   "id": "051a5a39",
   "metadata": {},
   "outputs": [
    {
     "data": {
      "text/plain": [
       "pandas.core.frame.DataFrame"
      ]
     },
     "execution_count": 34,
     "metadata": {},
     "output_type": "execute_result"
    }
   ],
   "source": [
    "type(data)"
   ]
  },
  {
   "cell_type": "code",
   "execution_count": 35,
   "id": "a54a6164",
   "metadata": {},
   "outputs": [
    {
     "name": "stdout",
     "output_type": "stream",
     "text": [
      "Size =  967668\n"
     ]
    }
   ],
   "source": [
    "print('Size = ', data.size)"
   ]
  },
  {
   "cell_type": "code",
   "execution_count": 10,
   "id": "3ae2cf40",
   "metadata": {},
   "outputs": [
    {
     "name": "stdout",
     "output_type": "stream",
     "text": [
      "['user_name' 'user_location' 'user_description' 'user_created'\n",
      " 'user_followers' 'user_friends' 'user_favourites' 'user_verified' 'date'\n",
      " 'text' 'hashtags' 'source' 'is_retweet']\n"
     ]
    }
   ],
   "source": [
    "print(data.columns.values)"
   ]
  },
  {
   "cell_type": "code",
   "execution_count": 11,
   "id": "8c8a07d2",
   "metadata": {},
   "outputs": [
    {
     "name": "stdout",
     "output_type": "stream",
     "text": [
      "RangeIndex(start=0, stop=74436, step=1)\n"
     ]
    }
   ],
   "source": [
    "print(data.index)"
   ]
  },
  {
   "cell_type": "code",
   "execution_count": 12,
   "id": "65a0adea",
   "metadata": {},
   "outputs": [
    {
     "name": "stdout",
     "output_type": "stream",
     "text": [
      "user_name           object\n",
      "user_location       object\n",
      "user_description    object\n",
      "user_created        object\n",
      "user_followers       int64\n",
      "user_friends         int64\n",
      "user_favourites      int64\n",
      "user_verified         bool\n",
      "date                object\n",
      "text                object\n",
      "hashtags            object\n",
      "source              object\n",
      "is_retweet            bool\n",
      "dtype: object\n"
     ]
    }
   ],
   "source": [
    "print(data.dtypes)"
   ]
  },
  {
   "cell_type": "markdown",
   "id": "c484f361",
   "metadata": {},
   "source": [
    "3. Analiza las variables para saber qué representa cada una y en qué rangos se encuentran. Si la descripción del problema no te lo indica, utiliza el máximo y el mínimo para encontrarlo."
   ]
  },
  {
   "cell_type": "code",
   "execution_count": 38,
   "id": "0fcb3278",
   "metadata": {},
   "outputs": [
    {
     "name": "stdout",
     "output_type": "stream",
     "text": [
      "Min followers:  0\n",
      "Max followers:  13892841\n",
      "Min friends:  0\n",
      "Max friends:  497363\n",
      "Min favourites:  0\n",
      "Max favourites:  2047197\n"
     ]
    }
   ],
   "source": [
    "#user_followers range\n",
    "\n",
    "min_followers=data['user_followers'].min()\n",
    "print('Min followers: ',min_followers)\n",
    "max_followers=data['user_followers'].max()\n",
    "print('Max followers: ',max_followers)\n",
    "\n",
    "#user_friends range\n",
    "\n",
    "min_friends=data['user_friends'].min()\n",
    "print('Min friends: ',min_friends)\n",
    "max_friends=data['user_friends'].max()\n",
    "print('Max friends: ',max_friends)\n",
    "\n",
    "#user_favourites range\n",
    "\n",
    "min_favourites=data['user_favourites'].min()\n",
    "print('Min favourites: ',min_favourites)\n",
    "max_favourites=data['user_favourites'].max()\n",
    "print('Max favourites: ',max_favourites)"
   ]
  },
  {
   "cell_type": "markdown",
   "id": "55ce9eb0",
   "metadata": {},
   "source": [
    "4. Basándose en la media, mediana y desviación estándar de cada variable, ¿Qué conclusiones puedes entregar de los datos?"
   ]
  },
  {
   "cell_type": "code",
   "execution_count": 6,
   "id": "e350ffbb",
   "metadata": {},
   "outputs": [
    {
     "name": "stdout",
     "output_type": "stream",
     "text": [
      "Media followers:  105951.31291310657\n",
      "Mediana followers:  960.0\n",
      "Desviación Estándar followers:  822289.9854933644\n",
      "Media friends:  2154.7211698640444\n",
      "Mediana friends:  552.0\n",
      "Desviación Estándar friends:  9365.587473744987\n",
      "Media favourites:  15297.472029663066\n",
      "Mediana favourites:  1927.0\n",
      "Desviación Estándar favourites:  46689.71429086786\n"
     ]
    }
   ],
   "source": [
    "\n",
    "# Estadísticas de user_followers\n",
    "\n",
    "# Media\n",
    "media_followers=data['user_followers'].mean()\n",
    "print('Media followers: ',media_followers)\n",
    "# Mediana\n",
    "mediana_followers=data['user_followers'].median()\n",
    "print('Mediana followers: ',mediana_followers)\n",
    "# Desviación Estándar\n",
    "std_followers=data['user_followers'].std()\n",
    "print('Desviación Estándar followers: ',std_followers)\n",
    "\n",
    "# Estadísticas de user_friends\n",
    "\n",
    "# Media\n",
    "media_friends=data['user_friends'].mean()\n",
    "print('Media friends: ',media_friends)\n",
    "# Mediana\n",
    "mediana_friends=data['user_friends'].median()\n",
    "print('Mediana friends: ',mediana_friends)\n",
    "# Desviación Estándar\n",
    "std_friends=data['user_friends'].std()\n",
    "print('Desviación Estándar friends: ',std_friends)\n",
    "\n",
    "# Estadísticas de user_favourites\n",
    "\n",
    "# Media\n",
    "media_favourites=data['user_favourites'].mean()\n",
    "print('Media favourites: ',media_favourites)\n",
    "# Mediana\n",
    "mediana_favourites=data['user_favourites'].median()\n",
    "print('Mediana favourites: ',mediana_favourites)\n",
    "# Desviación Estándar\n",
    "std_favourites=data['user_favourites'].std()\n",
    "print('Desviación Estándar favourites: ',std_favourites)"
   ]
  },
  {
   "cell_type": "markdown",
   "id": "bd3f87ba",
   "metadata": {},
   "source": [
    "Conclusiones\n",
    "\n",
    "Por la media de followers se concluye que las personas que twittearon acerca del covid fueron usuarios cuyos seguidores sobrepasan las 100 mil cifras, esto quiere decir que se trata de personas populares, que podrían abarcar el mundo del entretenimiento, político, deportivo, etc. Pero si nos enfocamos a la mediana se percata que no llega ni a los mil seguidores, esto quiere decir que la mitad de los usuarios en realidad no son personas tan conocidas, y que la media da la cifra tan alta por que existen usuario scon followers extremadamente altos como se vió en el máximo al sacar el rango (13892841 followers). Y para confirmarlo se encuentra la desviación estándar, la cual nos indica que los valores se alejan de la media previa dicha por más de tres cuartos de millón.\n",
    "\n",
    "\n",
    "En el caso de los friends y de los favourites se percata lo mismo que los followers, en el caso de los friends se puede interpretar que al contar con una media de más de dos mil, estos mismos hayan sido los culpables de un gran porcentaje de los favourites y de los followers. En el caso de los favourites se puede analizar la popularidad que alcanzaron los tweets, donde por promedio se alcanzaron los 15297 favourites, teniendo una mediana más alta que los followers se da a entender que más personas le dieron like que aquellos que seguían a la cuenta, con esto se puede deducir que el tema del covid ha sido muy hablado dentro de la red social de Twitter."
   ]
  },
  {
   "cell_type": "code",
   "execution_count": 14,
   "id": "385c12cf",
   "metadata": {},
   "outputs": [
    {
     "data": {
      "text/html": [
       "<div>\n",
       "<style scoped>\n",
       "    .dataframe tbody tr th:only-of-type {\n",
       "        vertical-align: middle;\n",
       "    }\n",
       "\n",
       "    .dataframe tbody tr th {\n",
       "        vertical-align: top;\n",
       "    }\n",
       "\n",
       "    .dataframe thead th {\n",
       "        text-align: right;\n",
       "    }\n",
       "</style>\n",
       "<table border=\"1\" class=\"dataframe\">\n",
       "  <thead>\n",
       "    <tr style=\"text-align: right;\">\n",
       "      <th></th>\n",
       "      <th>user_followers</th>\n",
       "      <th>user_friends</th>\n",
       "      <th>user_favourites</th>\n",
       "    </tr>\n",
       "  </thead>\n",
       "  <tbody>\n",
       "    <tr>\n",
       "      <th>0</th>\n",
       "      <td>624</td>\n",
       "      <td>950</td>\n",
       "      <td>18775</td>\n",
       "    </tr>\n",
       "    <tr>\n",
       "      <th>1</th>\n",
       "      <td>2253</td>\n",
       "      <td>1677</td>\n",
       "      <td>24</td>\n",
       "    </tr>\n",
       "    <tr>\n",
       "      <th>2</th>\n",
       "      <td>9275</td>\n",
       "      <td>9525</td>\n",
       "      <td>7254</td>\n",
       "    </tr>\n",
       "    <tr>\n",
       "      <th>3</th>\n",
       "      <td>197</td>\n",
       "      <td>987</td>\n",
       "      <td>1488</td>\n",
       "    </tr>\n",
       "    <tr>\n",
       "      <th>4</th>\n",
       "      <td>101009</td>\n",
       "      <td>168</td>\n",
       "      <td>101</td>\n",
       "    </tr>\n",
       "    <tr>\n",
       "      <th>...</th>\n",
       "      <td>...</td>\n",
       "      <td>...</td>\n",
       "      <td>...</td>\n",
       "    </tr>\n",
       "    <tr>\n",
       "      <th>74431</th>\n",
       "      <td>85</td>\n",
       "      <td>586</td>\n",
       "      <td>1902</td>\n",
       "    </tr>\n",
       "    <tr>\n",
       "      <th>74432</th>\n",
       "      <td>4289</td>\n",
       "      <td>1066</td>\n",
       "      <td>53569</td>\n",
       "    </tr>\n",
       "    <tr>\n",
       "      <th>74433</th>\n",
       "      <td>1413</td>\n",
       "      <td>102</td>\n",
       "      <td>16</td>\n",
       "    </tr>\n",
       "    <tr>\n",
       "      <th>74434</th>\n",
       "      <td>2554</td>\n",
       "      <td>1733</td>\n",
       "      <td>129104</td>\n",
       "    </tr>\n",
       "    <tr>\n",
       "      <th>74435</th>\n",
       "      <td>310</td>\n",
       "      <td>1748</td>\n",
       "      <td>60133</td>\n",
       "    </tr>\n",
       "  </tbody>\n",
       "</table>\n",
       "<p>74436 rows × 3 columns</p>\n",
       "</div>"
      ],
      "text/plain": [
       "       user_followers  user_friends  user_favourites\n",
       "0                 624           950            18775\n",
       "1                2253          1677               24\n",
       "2                9275          9525             7254\n",
       "3                 197           987             1488\n",
       "4              101009           168              101\n",
       "...               ...           ...              ...\n",
       "74431              85           586             1902\n",
       "74432            4289          1066            53569\n",
       "74433            1413           102               16\n",
       "74434            2554          1733           129104\n",
       "74435             310          1748            60133\n",
       "\n",
       "[74436 rows x 3 columns]"
      ]
     },
     "execution_count": 14,
     "metadata": {},
     "output_type": "execute_result"
    },
    {
     "data": {
      "image/png": "[encoded data removed]",
      "text/plain": [
       "<Figure size 432x288 with 1 Axes>"
      ]
     },
     "metadata": {
      "needs_background": "light"
     },
     "output_type": "display_data"
    },
    {
     "data": {
      "image/png": "[encoded data removed]",
      "text/plain": [
       "<Figure size 432x288 with 1 Axes>"
      ]
     },
     "metadata": {
      "needs_background": "light"
     },
     "output_type": "display_data"
    },
    {
     "data": {
      "image/png": "[encoded data removed]",
      "text/plain": [
       "<Figure size 432x288 with 1 Axes>"
      ]
     },
     "metadata": {
      "needs_background": "light"
     },
     "output_type": "display_data"
    },
    {
     "data": {
      "image/png": "[encoded data removed]",
      "text/plain": [
       "<Figure size 432x288 with 1 Axes>"
      ]
     },
     "metadata": {
      "needs_background": "light"
     },
     "output_type": "display_data"
    }
   ],
   "source": [
    "#Visualización \n",
    "data[[\"user_followers\"]].plot()\n",
    "data[[\"user_friends\"]].plot()\n",
    "data[[\"user_favourites\"]].plot()\n",
    "data[[\"user_followers\",\"user_friends\",\"user_favourites\"]].plot()\n",
    "data[[\"user_followers\",\"user_friends\",\"user_favourites\"]]"
   ]
  }
 ],
 "metadata": {
  "kernelspec": {
   "display_name": "Python 3 (ipykernel)",
   "language": "python",
   "name": "python3"
  },
  "language_info": {
   "codemirror_mode": {
    "name": "ipython",
    "version": 3
   },
   "file_extension": ".py",
   "mimetype": "text/x-python",
   "name": "python",
   "nbconvert_exporter": "python",
   "pygments_lexer": "ipython3",
   "version": "3.9.12"
  }
 },
 "nbformat": 4,
 "nbformat_minor": 5
}
