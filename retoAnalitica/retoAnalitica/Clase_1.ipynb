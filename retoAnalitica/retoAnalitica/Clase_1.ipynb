{
 "cells": [
  {
   "cell_type": "code",
   "execution_count": 1,
   "id": "53f6ab2a",
   "metadata": {},
   "outputs": [
    {
     "name": "stdout",
     "output_type": "stream",
     "text": [
      "Hello Anaconda\n"
     ]
    }
   ],
   "source": [
    "print(\"Hello Anaconda\")"
   ]
  },
  {
   "cell_type": "markdown",
   "id": "e3da6fca",
   "metadata": {},
   "source": [
    "# Arte de la Analítica!!\n",
    "\n",
    "1. Escribir una función de Python que encuentre los números primos en los primeros N números naturales. N es el argumento de la función Llamar la función desde el código principal"
   ]
  },
  {
   "cell_type": "code",
   "execution_count": 8,
   "id": "051cb656",
   "metadata": {},
   "outputs": [
    {
     "name": "stdout",
     "output_type": "stream",
     "text": [
      "[3, 5, 7, 11, 13, 17, 19, 23]\n"
     ]
    }
   ],
   "source": [
    "import math\n",
    "def primo(N):\n",
    "    naturals=[*range(1,N+1)]\n",
    "    #print(naturals)\n",
    "    primes=[]\n",
    "    for i in range(2,len(naturals)):\n",
    "        isPrime = True\n",
    "        for q in range(2, int(math.sqrt(naturals[i]))+1):\n",
    "            if naturals[i] % q == 0:\n",
    "                isPrime= False\n",
    "                #print(naturals[i], \" is not prime!\")\n",
    "                break\n",
    "        #print(naturals[i], \" is prime!\")\n",
    "        if isPrime:\n",
    "            primes.append(naturals[i])\n",
    "    return primes\n",
    "\n",
    "p= primo(28)\n",
    "\n",
    "print(p)"
   ]
  },
  {
   "cell_type": "markdown",
   "id": "70af6289",
   "metadata": {},
   "source": [
    "2. Escribir una función de Pyton que encuentre el producto cruz en vectores de 3 componentes. La función recibe dos listas (vectores) La función regresa un tercer vector (lista) con el resultado Llamar a la función desde el código principal"
   ]
  },
  {
   "cell_type": "code",
   "execution_count": 13,
   "id": "924791d5",
   "metadata": {},
   "outputs": [
    {
     "name": "stdout",
     "output_type": "stream",
     "text": [
      "a= [13.45, 20.67, -15.0821]\n",
      "b= [-5.012, -40.333, 12.874]\n",
      "a x b = [-342.20075929999996, -97.56381480000002, -438.88081]\n"
     ]
    }
   ],
   "source": [
    "def cross(a,b):\n",
    "    c = []\n",
    "    c.append(a[1]*b[2]-a[2]*b[1])\n",
    "    c.append(a[2]*b[0]-a[0]*b[2])\n",
    "    c.append(a[0]*b[1]-a[1]*b[0])\n",
    "    return c\n",
    "\n",
    "print(\"a=\",x)\n",
    "print(\"b=\",y)\n",
    "print(\"a x b =\", cr)"
   ]
  },
  {
   "cell_type": "markdown",
   "id": "1ed57d53",
   "metadata": {},
   "source": [
    "3. Re-escribir el problema 2, pero ahora los vectores son leídos desde un archivo de texto."
   ]
  },
  {
   "cell_type": "code",
   "execution_count": 12,
   "id": "52b9ea38",
   "metadata": {},
   "outputs": [
    {
     "name": "stdout",
     "output_type": "stream",
     "text": [
      "[['13.45', ' 20.67', ' -15.0821'], ['-5.012', ' -40.333', ' 12.874']]\n",
      "a= [13.45, 20.67, -15.0821]\n",
      "b= [-5.012, -40.333, 12.874]\n",
      "a x b = [-342.20075929999996, -97.56381480000002, -438.88081]\n"
     ]
    }
   ],
   "source": [
    "import csv\n",
    "filas = []\n",
    "with open(\"vectors.csv\",'r') as file:\n",
    "    csvr = csv.reader(file)\n",
    "    for row in csvr:\n",
    "        filas.append(row)\n",
    "print(filas)\n",
    "\n",
    "x = [float(filas[0][0]), float(filas[0][1]),float(filas[0][2])]\n",
    "y = [float(filas[1][0]), float(filas[1][1]),float(filas[1][2])]\n",
    "cr = cross(x,y)\n",
    "\n",
    "print(\"a=\",x)\n",
    "print(\"b=\",y)\n",
    "print(\"a x b =\", cr)"
   ]
  }
 ],
 "metadata": {
  "kernelspec": {
   "display_name": "Python 3 (ipykernel)",
   "language": "python",
   "name": "python3"
  },
  "language_info": {
   "codemirror_mode": {
    "name": "ipython",
    "version": 3
   },
   "file_extension": ".py",
   "mimetype": "text/x-python",
   "name": "python",
   "nbconvert_exporter": "python",
   "pygments_lexer": "ipython3",
   "version": "3.9.12"
  }
 },
 "nbformat": 4,
 "nbformat_minor": 5
}
